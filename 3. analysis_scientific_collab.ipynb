{
 "cells": [
  {
   "cell_type": "code",
   "execution_count": 1,
   "id": "0db300e5-eabf-476b-abdc-6bad20a298e0",
   "metadata": {},
   "outputs": [],
   "source": [
    "import pandas as pd\n",
    "import numpy as np\n",
    "import re\n",
    "from functools import reduce\n",
    "import seaborn as sns\n",
    "import missingno as msno\n",
    "%matplotlib inline\n",
    "\n",
    "import matplotlib.pyplot as plt\n",
    "from scipy.stats import norm\n"
   ]
  },
  {
   "cell_type": "code",
   "execution_count": 2,
   "id": "c64ba110-e311-4cc6-b7d1-cfaa9c093428",
   "metadata": {},
   "outputs": [],
   "source": [
    "# Set the figure size - handy for larger output\n",
    "from matplotlib import pyplot as plt\n",
    "plt.rcParams[\"figure.figsize\"] = [10, 6]\n",
    "# Set up with a higher resolution screen (useful on Mac)\n",
    "%config InlineBackend.figure_format = 'retina'"
   ]
  },
  {
   "cell_type": "code",
   "execution_count": null,
   "id": "15b53204-844c-410c-9b6e-2b3cf4c0ba07",
   "metadata": {},
   "outputs": [],
   "source": []
  },
  {
   "cell_type": "markdown",
   "id": "0d6ce227-837f-49bd-b293-064b12cb7279",
   "metadata": {},
   "source": [
    "# import data"
   ]
  },
  {
   "cell_type": "code",
   "execution_count": 4,
   "id": "64bb4161-8914-4398-85cb-88ce7eeee241",
   "metadata": {},
   "outputs": [
    {
     "data": {
      "text/plain": [
       "(932, 122)"
      ]
     },
     "execution_count": 4,
     "metadata": {},
     "output_type": "execute_result"
    }
   ],
   "source": [
    "data = pd.read_pickle('D:\\MARBURG VIRUS DISEASES\\DATA_PREPROCESSING/data_concat_countries_and_wb_groups_income.pkl')\n",
    "\n",
    "data.head(1)"
   ]
  },
  {
   "cell_type": "code",
   "execution_count": 11,
   "id": "08bcf185-8053-4196-a209-e67f2c1e0cf4",
   "metadata": {},
   "outputs": [
    {
     "data": {
      "text/html": [
       "<div>\n",
       "<style scoped>\n",
       "    .dataframe tbody tr th:only-of-type {\n",
       "        vertical-align: middle;\n",
       "    }\n",
       "\n",
       "    .dataframe tbody tr th {\n",
       "        vertical-align: top;\n",
       "    }\n",
       "\n",
       "    .dataframe thead th {\n",
       "        text-align: right;\n",
       "    }\n",
       "</style>\n",
       "<table border=\"1\" class=\"dataframe\">\n",
       "  <thead>\n",
       "    <tr style=\"text-align: right;\">\n",
       "      <th></th>\n",
       "      <th>Afghanistan</th>\n",
       "      <th>United States</th>\n",
       "      <th>Angola</th>\n",
       "      <th>Argentina</th>\n",
       "      <th>Australia</th>\n",
       "      <th>Austria</th>\n",
       "      <th>Bangladesh</th>\n",
       "      <th>Belgium</th>\n",
       "      <th>Belize</th>\n",
       "      <th>Brazil</th>\n",
       "      <th>...</th>\n",
       "      <th>Thailand</th>\n",
       "      <th>Turkey</th>\n",
       "      <th>United Arab Emirates</th>\n",
       "      <th>Uganda</th>\n",
       "      <th>Ukraine</th>\n",
       "      <th>Venezuela</th>\n",
       "      <th>Vietnam</th>\n",
       "      <th>Zambia</th>\n",
       "      <th>Zimbabwe</th>\n",
       "      <th>Sudan</th>\n",
       "    </tr>\n",
       "    <tr>\n",
       "      <th>UT (Unique WOS ID)</th>\n",
       "      <th></th>\n",
       "      <th></th>\n",
       "      <th></th>\n",
       "      <th></th>\n",
       "      <th></th>\n",
       "      <th></th>\n",
       "      <th></th>\n",
       "      <th></th>\n",
       "      <th></th>\n",
       "      <th></th>\n",
       "      <th></th>\n",
       "      <th></th>\n",
       "      <th></th>\n",
       "      <th></th>\n",
       "      <th></th>\n",
       "      <th></th>\n",
       "      <th></th>\n",
       "      <th></th>\n",
       "      <th></th>\n",
       "      <th></th>\n",
       "      <th></th>\n",
       "    </tr>\n",
       "  </thead>\n",
       "  <tbody>\n",
       "    <tr>\n",
       "      <th>WOS:000904661800001</th>\n",
       "      <td>NaN</td>\n",
       "      <td>NaN</td>\n",
       "      <td>NaN</td>\n",
       "      <td>NaN</td>\n",
       "      <td>NaN</td>\n",
       "      <td>NaN</td>\n",
       "      <td>NaN</td>\n",
       "      <td>NaN</td>\n",
       "      <td>NaN</td>\n",
       "      <td>NaN</td>\n",
       "      <td>...</td>\n",
       "      <td>NaN</td>\n",
       "      <td>NaN</td>\n",
       "      <td>NaN</td>\n",
       "      <td>NaN</td>\n",
       "      <td>NaN</td>\n",
       "      <td>NaN</td>\n",
       "      <td>NaN</td>\n",
       "      <td>NaN</td>\n",
       "      <td>NaN</td>\n",
       "      <td>NaN</td>\n",
       "    </tr>\n",
       "  </tbody>\n",
       "</table>\n",
       "<p>1 rows × 85 columns</p>\n",
       "</div>"
      ],
      "text/plain": [
       "                     Afghanistan  United States  Angola  Argentina  Australia  \\\n",
       "UT (Unique WOS ID)                                                              \n",
       "WOS:000904661800001          NaN            NaN     NaN        NaN        NaN   \n",
       "\n",
       "                     Austria  Bangladesh  Belgium  Belize  Brazil  ...  \\\n",
       "UT (Unique WOS ID)                                                 ...   \n",
       "WOS:000904661800001      NaN         NaN      NaN     NaN     NaN  ...   \n",
       "\n",
       "                     Thailand  Turkey  United Arab Emirates  Uganda  Ukraine  \\\n",
       "UT (Unique WOS ID)                                                             \n",
       "WOS:000904661800001       NaN     NaN                   NaN     NaN      NaN   \n",
       "\n",
       "                     Venezuela  Vietnam  Zambia  Zimbabwe  Sudan  \n",
       "UT (Unique WOS ID)                                                \n",
       "WOS:000904661800001        NaN      NaN     NaN       NaN    NaN  \n",
       "\n",
       "[1 rows x 85 columns]"
      ]
     },
     "execution_count": 11,
     "metadata": {},
     "output_type": "execute_result"
    }
   ],
   "source": [
    "country_data = pd.read_pickle('D:\\MARBURG VIRUS DISEASES\\DATA_PREPROCESSING/countries_split.pkl').drop('Addresses', axis=1)\n",
    "country_data.head(1)"
   ]
  },
  {
   "cell_type": "code",
   "execution_count": 7,
   "id": "a672f438-d27b-4921-b9ca-b88027521419",
   "metadata": {},
   "outputs": [
    {
     "data": {
      "text/html": [
       "<div>\n",
       "<style scoped>\n",
       "    .dataframe tbody tr th:only-of-type {\n",
       "        vertical-align: middle;\n",
       "    }\n",
       "\n",
       "    .dataframe tbody tr th {\n",
       "        vertical-align: top;\n",
       "    }\n",
       "\n",
       "    .dataframe thead th {\n",
       "        text-align: right;\n",
       "    }\n",
       "</style>\n",
       "<table border=\"1\" class=\"dataframe\">\n",
       "  <thead>\n",
       "    <tr style=\"text-align: right;\">\n",
       "      <th></th>\n",
       "      <th>Publication Type</th>\n",
       "      <th>Authors</th>\n",
       "      <th>Book Authors</th>\n",
       "      <th>Book Editors</th>\n",
       "      <th>Book Group Authors</th>\n",
       "      <th>Author Full Names</th>\n",
       "      <th>Book Author Full Names</th>\n",
       "      <th>Group Authors</th>\n",
       "      <th>Article Title</th>\n",
       "      <th>Source Title</th>\n",
       "      <th>...</th>\n",
       "      <th>Web of Science Index</th>\n",
       "      <th>Research Areas</th>\n",
       "      <th>IDS Number</th>\n",
       "      <th>Pubmed Id</th>\n",
       "      <th>Open Access Designations</th>\n",
       "      <th>Highly Cited Status</th>\n",
       "      <th>Hot Paper Status</th>\n",
       "      <th>Date of Export</th>\n",
       "      <th>wos_ID</th>\n",
       "      <th>Web of Science Record</th>\n",
       "    </tr>\n",
       "  </thead>\n",
       "  <tbody>\n",
       "    <tr>\n",
       "      <th>0</th>\n",
       "      <td>j</td>\n",
       "      <td>bi, jh; wang, hj; han, qx; pei, hy; wang, hl; ...</td>\n",
       "      <td>NaN</td>\n",
       "      <td>NaN</td>\n",
       "      <td>NaN</td>\n",
       "      <td>bi, jinhao; wang, haojie; han, qiuxue; pei, ho...</td>\n",
       "      <td>NaN</td>\n",
       "      <td>NaN</td>\n",
       "      <td>a rabies virus-vectored vaccine expressing two...</td>\n",
       "      <td>emerging microbes &amp; infections</td>\n",
       "      <td>...</td>\n",
       "      <td>science citation index expanded (sci-expanded)</td>\n",
       "      <td>immunology; infectious diseases; microbiology</td>\n",
       "      <td>7j5zq</td>\n",
       "      <td>36453198.0</td>\n",
       "      <td>green accepted, gold</td>\n",
       "      <td>NaN</td>\n",
       "      <td>NaN</td>\n",
       "      <td>2023-02-22</td>\n",
       "      <td>wos:000904661800001</td>\n",
       "      <td>0</td>\n",
       "    </tr>\n",
       "  </tbody>\n",
       "</table>\n",
       "<p>1 rows × 72 columns</p>\n",
       "</div>"
      ],
      "text/plain": [
       "  Publication Type                                            Authors  \\\n",
       "0                j  bi, jh; wang, hj; han, qx; pei, hy; wang, hl; ...   \n",
       "\n",
       "   Book Authors Book Editors  Book Group Authors  \\\n",
       "0           NaN          NaN                 NaN   \n",
       "\n",
       "                                   Author Full Names  Book Author Full Names  \\\n",
       "0  bi, jinhao; wang, haojie; han, qiuxue; pei, ho...                     NaN   \n",
       "\n",
       "  Group Authors                                      Article Title  \\\n",
       "0           NaN  a rabies virus-vectored vaccine expressing two...   \n",
       "\n",
       "                     Source Title  ...  \\\n",
       "0  emerging microbes & infections  ...   \n",
       "\n",
       "                             Web of Science Index  \\\n",
       "0  science citation index expanded (sci-expanded)   \n",
       "\n",
       "                                  Research Areas IDS Number   Pubmed Id  \\\n",
       "0  immunology; infectious diseases; microbiology      7j5zq  36453198.0   \n",
       "\n",
       "  Open Access Designations Highly Cited Status Hot Paper Status  \\\n",
       "0     green accepted, gold                 NaN              NaN   \n",
       "\n",
       "  Date of Export               wos_ID Web of Science Record  \n",
       "0     2023-02-22  wos:000904661800001                     0  \n",
       "\n",
       "[1 rows x 72 columns]"
      ]
     },
     "execution_count": 7,
     "metadata": {},
     "output_type": "execute_result"
    }
   ],
   "source": [
    "data_prep = pd.read_excel(f'D:\\MARBURG VIRUS DISEASES/data/WOSCC/woscc_bon_23_02_verif_on_wos.xls')\n",
    "data_prep = data_prep.rename(columns={\"UT (Unique WOS ID)\": \"wos_ID\"})\n",
    "data_prep = data_prep.applymap(lambda s:s.lower() if type(s) == str else s)\n",
    "#data_prep = data_prep.drop_duplicates('wos_ID')\n",
    "data_prep.head(1)"
   ]
  },
  {
   "cell_type": "code",
   "execution_count": 26,
   "id": "07f60ae2-5ef1-4513-a7dc-8ea916c421fa",
   "metadata": {},
   "outputs": [
    {
     "data": {
      "text/plain": [
       "Index(['Publication Type', 'Authors', 'Book Authors', 'Book Editors',\n",
       "       'Book Group Authors', 'Author Full Names', 'Book Author Full Names',\n",
       "       'Group Authors', 'Article Title', 'Source Title', 'Book Series Title',\n",
       "       'Book Series Subtitle', 'Language', 'Document Type', 'Conference Title',\n",
       "       'Conference Date', 'Conference Location', 'Conference Sponsor',\n",
       "       'Conference Host', 'Author Keywords', 'Keywords Plus', 'Abstract',\n",
       "       'Addresses', 'Affiliations', 'Reprint Addresses', 'Email Addresses',\n",
       "       'Researcher Ids', 'ORCIDs', 'Funding Orgs', 'Funding Name Preferred',\n",
       "       'Funding Text', 'Cited References', 'Cited Reference Count',\n",
       "       'Times Cited, WoS Core', 'Times Cited, All Databases',\n",
       "       '180 Day Usage Count', 'Since 2013 Usage Count', 'Publisher',\n",
       "       'Publisher City', 'Publisher Address', 'ISSN', 'eISSN', 'ISBN',\n",
       "       'Journal Abbreviation', 'Journal ISO Abbreviation', 'Publication Date',\n",
       "       'Publication Year', 'Volume', 'Issue', 'Part Number', 'Supplement',\n",
       "       'Special Issue', 'Meeting Abstract', 'Start Page', 'End Page',\n",
       "       'Article Number', 'DOI', 'DOI Link', 'Book DOI', 'Early Access Date',\n",
       "       'Number of Pages', 'WoS Categories', 'Web of Science Index',\n",
       "       'Research Areas', 'IDS Number', 'Pubmed Id', 'Open Access Designations',\n",
       "       'Highly Cited Status', 'Hot Paper Status', 'Date of Export', 'wos_ID',\n",
       "       'Web of Science Record', 'number_of_institution', 'number_of_author'],\n",
       "      dtype='object')"
      ]
     },
     "execution_count": 26,
     "metadata": {},
     "output_type": "execute_result"
    }
   ],
   "source": [
    "data_prep.columns"
   ]
  },
  {
   "cell_type": "markdown",
   "id": "fca4c292-0afd-4f5b-aabd-00d3920509a4",
   "metadata": {},
   "source": [
    "# Extract indicators"
   ]
  },
  {
   "cell_type": "markdown",
   "id": "41ec8bb6-816d-4d2f-9899-6247ba747ea3",
   "metadata": {},
   "source": [
    "## Extract number of countries"
   ]
  },
  {
   "cell_type": "code",
   "execution_count": 15,
   "id": "8934eb94-12f7-47ef-9d43-16ef14d5424b",
   "metadata": {},
   "outputs": [
    {
     "data": {
      "text/html": [
       "<div>\n",
       "<style scoped>\n",
       "    .dataframe tbody tr th:only-of-type {\n",
       "        vertical-align: middle;\n",
       "    }\n",
       "\n",
       "    .dataframe tbody tr th {\n",
       "        vertical-align: top;\n",
       "    }\n",
       "\n",
       "    .dataframe thead th {\n",
       "        text-align: right;\n",
       "    }\n",
       "</style>\n",
       "<table border=\"1\" class=\"dataframe\">\n",
       "  <thead>\n",
       "    <tr style=\"text-align: right;\">\n",
       "      <th></th>\n",
       "      <th>Afghanistan</th>\n",
       "      <th>United States</th>\n",
       "      <th>Angola</th>\n",
       "      <th>Argentina</th>\n",
       "      <th>Australia</th>\n",
       "      <th>Austria</th>\n",
       "      <th>Bangladesh</th>\n",
       "      <th>Belgium</th>\n",
       "      <th>Belize</th>\n",
       "      <th>Brazil</th>\n",
       "      <th>...</th>\n",
       "      <th>Turkey</th>\n",
       "      <th>United Arab Emirates</th>\n",
       "      <th>Uganda</th>\n",
       "      <th>Ukraine</th>\n",
       "      <th>Venezuela</th>\n",
       "      <th>Vietnam</th>\n",
       "      <th>Zambia</th>\n",
       "      <th>Zimbabwe</th>\n",
       "      <th>Sudan</th>\n",
       "      <th>number_of_country</th>\n",
       "    </tr>\n",
       "    <tr>\n",
       "      <th>UT (Unique WOS ID)</th>\n",
       "      <th></th>\n",
       "      <th></th>\n",
       "      <th></th>\n",
       "      <th></th>\n",
       "      <th></th>\n",
       "      <th></th>\n",
       "      <th></th>\n",
       "      <th></th>\n",
       "      <th></th>\n",
       "      <th></th>\n",
       "      <th></th>\n",
       "      <th></th>\n",
       "      <th></th>\n",
       "      <th></th>\n",
       "      <th></th>\n",
       "      <th></th>\n",
       "      <th></th>\n",
       "      <th></th>\n",
       "      <th></th>\n",
       "      <th></th>\n",
       "      <th></th>\n",
       "    </tr>\n",
       "  </thead>\n",
       "  <tbody>\n",
       "    <tr>\n",
       "      <th>WOS:000904661800001</th>\n",
       "      <td>NaN</td>\n",
       "      <td>NaN</td>\n",
       "      <td>NaN</td>\n",
       "      <td>NaN</td>\n",
       "      <td>NaN</td>\n",
       "      <td>NaN</td>\n",
       "      <td>NaN</td>\n",
       "      <td>NaN</td>\n",
       "      <td>NaN</td>\n",
       "      <td>NaN</td>\n",
       "      <td>...</td>\n",
       "      <td>NaN</td>\n",
       "      <td>NaN</td>\n",
       "      <td>NaN</td>\n",
       "      <td>NaN</td>\n",
       "      <td>NaN</td>\n",
       "      <td>NaN</td>\n",
       "      <td>NaN</td>\n",
       "      <td>NaN</td>\n",
       "      <td>NaN</td>\n",
       "      <td>2</td>\n",
       "    </tr>\n",
       "    <tr>\n",
       "      <th>WOS:000921279800001</th>\n",
       "      <td>NaN</td>\n",
       "      <td>2.0</td>\n",
       "      <td>NaN</td>\n",
       "      <td>NaN</td>\n",
       "      <td>NaN</td>\n",
       "      <td>NaN</td>\n",
       "      <td>NaN</td>\n",
       "      <td>NaN</td>\n",
       "      <td>NaN</td>\n",
       "      <td>NaN</td>\n",
       "      <td>...</td>\n",
       "      <td>NaN</td>\n",
       "      <td>NaN</td>\n",
       "      <td>NaN</td>\n",
       "      <td>NaN</td>\n",
       "      <td>NaN</td>\n",
       "      <td>NaN</td>\n",
       "      <td>NaN</td>\n",
       "      <td>NaN</td>\n",
       "      <td>NaN</td>\n",
       "      <td>3</td>\n",
       "    </tr>\n",
       "    <tr>\n",
       "      <th>WOS:000909001200001</th>\n",
       "      <td>NaN</td>\n",
       "      <td>NaN</td>\n",
       "      <td>NaN</td>\n",
       "      <td>NaN</td>\n",
       "      <td>NaN</td>\n",
       "      <td>NaN</td>\n",
       "      <td>NaN</td>\n",
       "      <td>NaN</td>\n",
       "      <td>NaN</td>\n",
       "      <td>NaN</td>\n",
       "      <td>...</td>\n",
       "      <td>NaN</td>\n",
       "      <td>NaN</td>\n",
       "      <td>NaN</td>\n",
       "      <td>NaN</td>\n",
       "      <td>NaN</td>\n",
       "      <td>NaN</td>\n",
       "      <td>NaN</td>\n",
       "      <td>NaN</td>\n",
       "      <td>NaN</td>\n",
       "      <td>2</td>\n",
       "    </tr>\n",
       "    <tr>\n",
       "      <th>WOS:000777045900001</th>\n",
       "      <td>NaN</td>\n",
       "      <td>1.0</td>\n",
       "      <td>NaN</td>\n",
       "      <td>NaN</td>\n",
       "      <td>2.0</td>\n",
       "      <td>NaN</td>\n",
       "      <td>8.0</td>\n",
       "      <td>NaN</td>\n",
       "      <td>NaN</td>\n",
       "      <td>NaN</td>\n",
       "      <td>...</td>\n",
       "      <td>NaN</td>\n",
       "      <td>NaN</td>\n",
       "      <td>NaN</td>\n",
       "      <td>NaN</td>\n",
       "      <td>NaN</td>\n",
       "      <td>NaN</td>\n",
       "      <td>NaN</td>\n",
       "      <td>NaN</td>\n",
       "      <td>NaN</td>\n",
       "      <td>7</td>\n",
       "    </tr>\n",
       "    <tr>\n",
       "      <th>WOS:000849602200001</th>\n",
       "      <td>NaN</td>\n",
       "      <td>1.0</td>\n",
       "      <td>NaN</td>\n",
       "      <td>NaN</td>\n",
       "      <td>NaN</td>\n",
       "      <td>NaN</td>\n",
       "      <td>NaN</td>\n",
       "      <td>NaN</td>\n",
       "      <td>NaN</td>\n",
       "      <td>NaN</td>\n",
       "      <td>...</td>\n",
       "      <td>NaN</td>\n",
       "      <td>NaN</td>\n",
       "      <td>NaN</td>\n",
       "      <td>NaN</td>\n",
       "      <td>NaN</td>\n",
       "      <td>NaN</td>\n",
       "      <td>NaN</td>\n",
       "      <td>NaN</td>\n",
       "      <td>NaN</td>\n",
       "      <td>5</td>\n",
       "    </tr>\n",
       "  </tbody>\n",
       "</table>\n",
       "<p>5 rows × 86 columns</p>\n",
       "</div>"
      ],
      "text/plain": [
       "                     Afghanistan  United States  Angola  Argentina  Australia  \\\n",
       "UT (Unique WOS ID)                                                              \n",
       "WOS:000904661800001          NaN            NaN     NaN        NaN        NaN   \n",
       "WOS:000921279800001          NaN            2.0     NaN        NaN        NaN   \n",
       "WOS:000909001200001          NaN            NaN     NaN        NaN        NaN   \n",
       "WOS:000777045900001          NaN            1.0     NaN        NaN        2.0   \n",
       "WOS:000849602200001          NaN            1.0     NaN        NaN        NaN   \n",
       "\n",
       "                     Austria  Bangladesh  Belgium  Belize  Brazil  ...  \\\n",
       "UT (Unique WOS ID)                                                 ...   \n",
       "WOS:000904661800001      NaN         NaN      NaN     NaN     NaN  ...   \n",
       "WOS:000921279800001      NaN         NaN      NaN     NaN     NaN  ...   \n",
       "WOS:000909001200001      NaN         NaN      NaN     NaN     NaN  ...   \n",
       "WOS:000777045900001      NaN         8.0      NaN     NaN     NaN  ...   \n",
       "WOS:000849602200001      NaN         NaN      NaN     NaN     NaN  ...   \n",
       "\n",
       "                     Turkey  United Arab Emirates  Uganda  Ukraine  Venezuela  \\\n",
       "UT (Unique WOS ID)                                                              \n",
       "WOS:000904661800001     NaN                   NaN     NaN      NaN        NaN   \n",
       "WOS:000921279800001     NaN                   NaN     NaN      NaN        NaN   \n",
       "WOS:000909001200001     NaN                   NaN     NaN      NaN        NaN   \n",
       "WOS:000777045900001     NaN                   NaN     NaN      NaN        NaN   \n",
       "WOS:000849602200001     NaN                   NaN     NaN      NaN        NaN   \n",
       "\n",
       "                     Vietnam  Zambia  Zimbabwe  Sudan  number_of_country  \n",
       "UT (Unique WOS ID)                                                        \n",
       "WOS:000904661800001      NaN     NaN       NaN    NaN                  2  \n",
       "WOS:000921279800001      NaN     NaN       NaN    NaN                  3  \n",
       "WOS:000909001200001      NaN     NaN       NaN    NaN                  2  \n",
       "WOS:000777045900001      NaN     NaN       NaN    NaN                  7  \n",
       "WOS:000849602200001      NaN     NaN       NaN    NaN                  5  \n",
       "\n",
       "[5 rows x 86 columns]"
      ]
     },
     "execution_count": 15,
     "metadata": {},
     "output_type": "execute_result"
    }
   ],
   "source": [
    "country_data['number_of_country'] = country_data.notnull().sum(axis=1)\n",
    "country_data.head()"
   ]
  },
  {
   "cell_type": "markdown",
   "id": "559eaf0c-6a6e-4ec1-beb4-ecfc14fcec4e",
   "metadata": {},
   "source": [
    "## Extract number of institution"
   ]
  },
  {
   "cell_type": "code",
   "execution_count": 8,
   "id": "2f73dcaf-b0a8-4ef3-98d8-4668cb46158d",
   "metadata": {},
   "outputs": [
    {
     "data": {
      "text/plain": [
       "0      20\n",
       "1      15\n",
       "2       1\n",
       "3      16\n",
       "4       7\n",
       "       ..\n",
       "927     0\n",
       "928     0\n",
       "929     0\n",
       "930     0\n",
       "931     0\n",
       "Name: number_of_institution, Length: 932, dtype: int64"
      ]
     },
     "execution_count": 8,
     "metadata": {},
     "output_type": "execute_result"
    }
   ],
   "source": [
    "# number of institutions\n",
    "data_prep['number_of_institution'] =  pd.DataFrame(data_prep['Addresses'].str.split(';', expand=True)).count(axis='columns')\n",
    "data_prep['number_of_institution']#.rename(columns={0: \"Number_of_author_per_study\"})"
   ]
  },
  {
   "cell_type": "markdown",
   "id": "dd5d0337-7454-4a6f-aa3a-10b5ddf0dca2",
   "metadata": {},
   "source": [
    "## Extract number of authors"
   ]
  },
  {
   "cell_type": "code",
   "execution_count": 9,
   "id": "6d55ea44-e6ab-45a9-8698-4dc6221ab2d0",
   "metadata": {},
   "outputs": [
    {
     "data": {
      "text/plain": [
       "0      13\n",
       "1      11\n",
       "2       1\n",
       "3      14\n",
       "4       6\n",
       "       ..\n",
       "927     2\n",
       "928     5\n",
       "929     3\n",
       "930     3\n",
       "931     4\n",
       "Name: number_of_author, Length: 932, dtype: int64"
      ]
     },
     "execution_count": 9,
     "metadata": {},
     "output_type": "execute_result"
    }
   ],
   "source": [
    "# number of authors\n",
    "data_prep['number_of_author'] =  pd.DataFrame(data_prep['Author Full Names'].str.split(';', expand=True)).count(axis='columns')#.rename(columns={0: \"Number_of_author_per_study\"})\n",
    "data_prep['number_of_author']"
   ]
  },
  {
   "cell_type": "markdown",
   "id": "59e45e26-c1cf-401f-8d40-6db876c5524c",
   "metadata": {},
   "source": [
    "## Extract types of collaboration"
   ]
  },
  {
   "cell_type": "code",
   "execution_count": 16,
   "id": "23f5af09-0b61-4b3a-b35b-e777728deb6c",
   "metadata": {},
   "outputs": [
    {
     "data": {
      "text/plain": [
       "2     558\n",
       "3     197\n",
       "4      65\n",
       "1      57\n",
       "5      28\n",
       "7       9\n",
       "6       9\n",
       "8       4\n",
       "11      1\n",
       "12      1\n",
       "14      1\n",
       "9       1\n",
       "10      1\n",
       "Name: number_of_country, dtype: int64"
      ]
     },
     "execution_count": 16,
     "metadata": {},
     "output_type": "execute_result"
    }
   ],
   "source": [
    "country_data['number_of_country'].value_counts()"
   ]
  },
  {
   "cell_type": "code",
   "execution_count": 20,
   "id": "b807f744-11cd-4ebb-a8e5-d51d9e760b78",
   "metadata": {},
   "outputs": [
    {
     "data": {
      "text/plain": [
       "UT (Unique WOS ID)\n",
       "WOS:000904661800001    Int. collab.\n",
       "WOS:000921279800001    Int. collab.\n",
       "WOS:000909001200001    Int. collab.\n",
       "WOS:000777045900001    Int. collab.\n",
       "WOS:000849602200001    Int. collab.\n",
       "                           ...     \n",
       "WOS:A1968B358900049    Nat. collab.\n",
       "WOS:A1968A855300001    Nat. collab.\n",
       "WOS:A1968A855300006    Nat. collab.\n",
       "WOS:A1968A855300008    Nat. collab.\n",
       "WOS:A1968A855300007    Nat. collab.\n",
       "Name: collab_types, Length: 932, dtype: object"
      ]
     },
     "execution_count": 20,
     "metadata": {},
     "output_type": "execute_result"
    }
   ],
   "source": [
    "# Create new column based \n",
    "country_data['collab_types'] = country_data['number_of_country'].apply(lambda x: 'Nat. collab.' if x <= 1 else 'Int. collab.')\n",
    "country_data['collab_types']"
   ]
  },
  {
   "cell_type": "code",
   "execution_count": 21,
   "id": "b1df11b8-1dc1-4cca-9b50-0f252ed648a4",
   "metadata": {},
   "outputs": [
    {
     "data": {
      "text/plain": [
       "Int. collab.    875\n",
       "Nat. collab.     57\n",
       "Name: collab_types, dtype: int64"
      ]
     },
     "execution_count": 21,
     "metadata": {},
     "output_type": "execute_result"
    }
   ],
   "source": [
    "country_data['collab_types'].value_counts()"
   ]
  },
  {
   "cell_type": "code",
   "execution_count": null,
   "id": "da3783b3-92f0-4a45-8b28-11ae476a4243",
   "metadata": {},
   "outputs": [],
   "source": []
  },
  {
   "cell_type": "code",
   "execution_count": 24,
   "id": "397032a7-c796-42da-939f-8177c9802f2e",
   "metadata": {},
   "outputs": [],
   "source": [
    "data_region= data[['north_africa', 'eastern_africa', 'Southern_africa', 'Western_africa', 'Central_africa', 'non_african_countries', \n",
    "            'wb_east_asia_and_pacific', 'wb_europe_and_central_asia', 'wb_latin_america_and_the_caribbean', \n",
    "            'wb_middle_east_and_north_africa', 'wb_north_america', 'wb_south_asia', 'wb_sub_saharan_africa'\n",
    "             ]]"
   ]
  },
  {
   "cell_type": "code",
   "execution_count": 25,
   "id": "1aa7ee01-c6f4-440f-9450-8be7eb200c54",
   "metadata": {},
   "outputs": [
    {
     "data": {
      "text/plain": [
       "2    612\n",
       "3    142\n",
       "4     65\n",
       "0     57\n",
       "5     38\n",
       "6     13\n",
       "7      3\n",
       "1      1\n",
       "8      1\n",
       "dtype: int64"
      ]
     },
     "execution_count": 25,
     "metadata": {},
     "output_type": "execute_result"
    }
   ],
   "source": [
    "data_region.notnull().sum(axis=1).value_counts()"
   ]
  },
  {
   "cell_type": "code",
   "execution_count": null,
   "id": "170019e4-a644-43f9-8d3d-0c879be87bbb",
   "metadata": {},
   "outputs": [],
   "source": []
  },
  {
   "cell_type": "code",
   "execution_count": null,
   "id": "d08bedf5-0861-426c-a2f9-a3ed9def9870",
   "metadata": {},
   "outputs": [],
   "source": []
  },
  {
   "cell_type": "code",
   "execution_count": null,
   "id": "e8f4bb6d-5120-46e0-8ff6-7a37447780cc",
   "metadata": {},
   "outputs": [],
   "source": []
  },
  {
   "cell_type": "code",
   "execution_count": null,
   "id": "a74b8567-974e-4d2b-b85a-ce5d46b9e5b2",
   "metadata": {},
   "outputs": [],
   "source": []
  },
  {
   "cell_type": "code",
   "execution_count": null,
   "id": "b0d49d13-709f-44db-8323-4a5dd02faa08",
   "metadata": {},
   "outputs": [],
   "source": []
  },
  {
   "cell_type": "code",
   "execution_count": null,
   "id": "0bb42411-d904-49eb-b1b8-e24104ecbe05",
   "metadata": {},
   "outputs": [],
   "source": []
  }
 ],
 "metadata": {
  "kernelspec": {
   "display_name": "Python 3 (ipykernel)",
   "language": "python",
   "name": "python3"
  },
  "language_info": {
   "codemirror_mode": {
    "name": "ipython",
    "version": 3
   },
   "file_extension": ".py",
   "mimetype": "text/x-python",
   "name": "python",
   "nbconvert_exporter": "python",
   "pygments_lexer": "ipython3",
   "version": "3.8.8"
  }
 },
 "nbformat": 4,
 "nbformat_minor": 5
}
